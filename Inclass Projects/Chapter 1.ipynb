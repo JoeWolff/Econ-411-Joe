{
 "cells": [
  {
   "cell_type": "code",
   "execution_count": 1,
   "metadata": {},
   "outputs": [
    {
     "name": "stdout",
     "output_type": "stream",
     "text": [
      "Hello World\n"
     ]
    }
   ],
   "source": [
    "print('Hello World')\n"
   ]
  },
  {
   "cell_type": "code",
   "execution_count": 2,
   "metadata": {},
   "outputs": [
    {
     "name": "stdout",
     "output_type": "stream",
     "text": [
      "Hello Joe\n"
     ]
    }
   ],
   "source": [
    "msg=\"Hello Joe\"\n",
    "print(msg)\n"
   ]
  },
  {
   "cell_type": "code",
   "execution_count": 3,
   "metadata": {},
   "outputs": [
    {
     "name": "stdout",
     "output_type": "stream",
     "text": [
      "Joe Wolff\n"
     ]
    }
   ],
   "source": [
    "msg=\"Joe Wolff\"\n",
    "print(msg)"
   ]
  },
  {
   "cell_type": "code",
   "execution_count": 4,
   "metadata": {},
   "outputs": [
    {
     "name": "stdout",
     "output_type": "stream",
     "text": [
      "JOE WOLFF\n",
      "Joe Wolff\n"
     ]
    }
   ],
   "source": [
    "msg_upper= msg.upper()\n",
    "print(msg_upper)\n",
    "\n",
    "msg_title= msg.title()\n",
    "print(msg_title)"
   ]
  },
  {
   "cell_type": "code",
   "execution_count": 5,
   "metadata": {},
   "outputs": [
    {
     "name": "stdout",
     "output_type": "stream",
     "text": [
      "Joe Wolff\n"
     ]
    }
   ],
   "source": [
    "msg=\"Joe\"+\" \"+\"Wolff\"\n",
    "print(msg)\n"
   ]
  },
  {
   "cell_type": "code",
   "execution_count": 6,
   "metadata": {},
   "outputs": [
    {
     "name": "stdout",
     "output_type": "stream",
     "text": [
      "You thought it would be easyYou thought it wouldn't be strangeBut then you started codingThings never were the same\n"
     ]
    }
   ],
   "source": [
    "line1 = \"You thought it would be easy\"\n",
    "line2 = \"You thought it wouldn't be strange\"\n",
    "line3 = \"But then you started coding\"\n",
    "line4 = \"Things never were the same\"\n",
    "\n",
    "print(line1 + line2 + line3 + line4)\n",
    "\n"
   ]
  },
  {
   "cell_type": "code",
   "execution_count": 7,
   "metadata": {},
   "outputs": [
    {
     "name": "stdout",
     "output_type": "stream",
     "text": [
      "You thought it would be easy You thought it wouldn't be strange But then you started coding Things never were the same\n"
     ]
    }
   ],
   "source": [
    "line1 = \"You thought it would be easy\"\n",
    "line2 = \"You thought it wouldn't be strange\"\n",
    "line3 = \"But then you started coding\"\n",
    "line4 = \"Things never were the same\"\n",
    "\n",
    "print(line1 + \" \" + line2 + \" \" + line3 + \" \" + line4)\n"
   ]
  },
  {
   "cell_type": "code",
   "execution_count": 8,
   "metadata": {},
   "outputs": [
    {
     "name": "stdout",
     "output_type": "stream",
     "text": [
      "You thought it would be easy You thought it wouldn't be strange But then you started coding Things never were the same\n"
     ]
    }
   ],
   "source": [
    "line1 = \"You thought it would be easy\"\n",
    "line2 = \"You thought it wouldn't be strange\"\n",
    "line3 = \"But then you started coding\"\n",
    "line4 = \"Things never were the same\"\n",
    "\n",
    "print(line1, line2, line3, line4)\n"
   ]
  },
  {
   "cell_type": "code",
   "execution_count": 9,
   "metadata": {},
   "outputs": [
    {
     "name": "stdout",
     "output_type": "stream",
     "text": [
      "You thought it would be easyYou thought it wouldn't be strangeBut then you started codingThings never were the same\n"
     ]
    }
   ],
   "source": [
    "line1 = \"You thought it would be easy\"\n",
    "line2 = \"You thought it wouldn't be strange\"\n",
    "line3 = \"But then you started coding\"\n",
    "line4 = \"Things never were the same\"\n",
    "\n",
    "print(line1, line2, line3, line4, sep = \"\")\n",
    "\n"
   ]
  },
  {
   "cell_type": "code",
   "execution_count": 10,
   "metadata": {},
   "outputs": [
    {
     "name": "stdout",
     "output_type": "stream",
     "text": [
      "You thought it would be easy\n",
      "You thought it wouldn't be strange\n",
      "But then you started coding\n",
      "Things never were the same\n"
     ]
    }
   ],
   "source": [
    "line1 = \"You thought it would be easy\"\n",
    "line2 = \"You thought it wouldn't be strange\"\n",
    "line3 = \"But then you started coding\"\n",
    "line4 = \"Things never were the same\"\n",
    "\n",
    "print(line1 + \"\\n\" + line2 + \"\\n\" + line3 + \"\\n\" + line4)\n",
    "\n"
   ]
  },
  {
   "cell_type": "code",
   "execution_count": 11,
   "metadata": {},
   "outputs": [
    {
     "name": "stdout",
     "output_type": "stream",
     "text": [
      "You thought it would be easy\n",
      "You thought it wouldn't be strange\n",
      "But then you started coding\n",
      "Things never were the same\n"
     ]
    }
   ],
   "source": [
    "line1 = \"You thought it would be easy\"\n",
    "line2 = \"You thought it wouldn't be strange\"\n",
    "line3 = \"But then you started coding\"\n",
    "line4 = \"Things never were the same\"\n",
    "\n",
    "print(line1, line2, line3, line4, sep = \"\\n\")\n"
   ]
  },
  {
   "cell_type": "code",
   "execution_count": 12,
   "metadata": {},
   "outputs": [
    {
     "name": "stdout",
     "output_type": "stream",
     "text": [
      "We may use 'single quotes' within double quotes\n",
      "We may use \"double quotes\" within single quotes\n"
     ]
    }
   ],
   "source": [
    "single_in_double = \"We may use 'single quotes' within double quotes\"\n",
    "double_in_single = 'We may use \"double quotes\" within single quotes'\n",
    "print(single_in_double)\n",
    "print(double_in_single)"
   ]
  },
  {
   "cell_type": "code",
   "execution_count": 13,
   "metadata": {},
   "outputs": [
    {
     "name": "stdout",
     "output_type": "stream",
     "text": [
      "We may use 'single quotes' in single quotes.\n",
      "Or we may use \"double quotes\" in double quotes.\n",
      "We may use two backslashes to print a single backslash: \\\n",
      "Every\n",
      "word\n",
      "is\n",
      "a\n",
      "new\n",
      "line\n",
      "We may start a new line \n",
      "\tand use tab for a hanging indent\n"
     ]
    }
   ],
   "source": [
    "single_quotes = 'We may use \\'single quotes\\' in single quotes.'\n",
    "double_quotes = \"Or we may use \\\"double quotes\\\" in double quotes.\"\n",
    "read_backslash = \"We may use two backslashes to print a single backslash: \\\\\"\n",
    "lines = \"Every\\nword\\nis\\na\\nnew\\nline\"\n",
    "new_line_and_tab = \"We may start a new line \\n\\tand use tab for a hanging indent\"\n",
    "\n",
    "print(single_quotes)\n",
    "print(double_quotes)\n",
    "print(read_backslash)\n",
    "print(lines)\n",
    "print(new_line_and_tab)"
   ]
  },
  {
   "cell_type": "code",
   "execution_count": 14,
   "metadata": {},
   "outputs": [
    {
     "name": "stdout",
     "output_type": "stream",
     "text": [
      "no spaces removed:\n",
      "     Look at all the spaces in the text!    \n",
      "Remove left spaces:\n",
      "Look at all the spaces in the text!    \n",
      "Remove right spaces:\n",
      "    Look at all the spaces in the text!\n",
      "Remove left and right spaces:\n",
      "Look at all the spaces in the text!\n"
     ]
    }
   ],
   "source": [
    "spaces = \"    Look at all the spaces in the text!    \"\n",
    "print(\"no spaces removed:\\n\", spaces)\n",
    "\n",
    "remove_left_spaces = spaces.lstrip()\n",
    "remove_right_spaces = spaces.rstrip()\n",
    "remove_left_and_right_spaces = spaces.strip()\n",
    "\n",
    "print(\"Remove left spaces:\\n\" + remove_left_spaces)\n",
    "print(\"Remove right spaces:\\n\" + remove_right_spaces)\n",
    "print(\"Remove left and right spaces:\\n\" + remove_left_and_right_spaces)\n"
   ]
  },
  {
   "cell_type": "code",
   "execution_count": 15,
   "metadata": {},
   "outputs": [
    {
     "name": "stdout",
     "output_type": "stream",
     "text": [
      "no spaces removed:\n",
      "     Look at all the spaces in the text!    \n",
      "Remove all spaces:\n",
      "Lookatallthespacesinthetext!\n"
     ]
    }
   ],
   "source": [
    "spaces = \"    Look at all the spaces in the text!    \"\n",
    "print(\"no spaces removed:\\n\", spaces)\n",
    "\n",
    "remove_all_spaces = spaces.replace(\" \", \"\")\n",
    "print(\"Remove all spaces:\\n\" + remove_all_spaces)\n"
   ]
  },
  {
   "cell_type": "code",
   "execution_count": 16,
   "metadata": {},
   "outputs": [
    {
     "name": "stdout",
     "output_type": "stream",
     "text": [
      "Everything in this object will be recorded exactly as entered,\n",
      "if we enter a new line or \n",
      "    a new line with a tab.\n"
     ]
    }
   ],
   "source": [
    "x = \"\"\"Everything in this object will be recorded exactly as entered,\n",
    "if we enter a new line or \n",
    "    a new line with a tab.\"\"\"\n",
    "    \n",
    "print(x)"
   ]
  },
  {
   "cell_type": "code",
   "execution_count": 17,
   "metadata": {},
   "outputs": [
    {
     "name": "stdout",
     "output_type": "stream",
     "text": [
      "num1: 16 \n",
      "num1s: 79\n"
     ]
    }
   ],
   "source": [
    "num1 = 7 + 9\n",
    "num1s = \"7\" + \"9\"\n",
    "\n",
    "print(\"num1:\", num1,\"\\nnum1s:\", num1s)\n"
   ]
  },
  {
   "cell_type": "code",
   "execution_count": 18,
   "metadata": {},
   "outputs": [
    {
     "name": "stdout",
     "output_type": "stream",
     "text": [
      "num1: 0.30434782608695654 \n",
      "num2: 0.11594202898550725 \n",
      "num3: 32.30769230769231\n"
     ]
    }
   ],
   "source": [
    "num1 = 7 / 23\n",
    "num2 = 8 / 69\n",
    "num3 = 420 / 13\n",
    "\n",
    "print(\"num1:\", num1, \"\\nnum2:\", num2, \"\\nnum3:\", num3)\n"
   ]
  },
  {
   "cell_type": "code",
   "execution_count": 19,
   "metadata": {},
   "outputs": [
    {
     "name": "stdout",
     "output_type": "stream",
     "text": [
      "394508.99393939396\n"
     ]
    }
   ],
   "source": [
    "num1 = 8675309 / 22\n",
    "num2 = 404 / 40\n",
    "num3 = 500 / 3\n",
    "sum_nums = num1 + num2 + num3\n",
    "\n",
    "print( sum_nums)\n"
   ]
  },
  {
   "cell_type": "code",
   "execution_count": 20,
   "metadata": {},
   "outputs": [
    {
     "name": "stdout",
     "output_type": "stream",
     "text": [
      "num1 + num2 + num3: 36.05007575757576\n"
     ]
    }
   ],
   "source": [
    "num1 = 578 / 32\n",
    "num2 = 785 / 44\n",
    "num3 = 44 / 300\n",
    "sum_nums = num1 + num2 + num3\n",
    "\n",
    "print(\"num1 + num2 + num3: \" + str(sum_nums))\n"
   ]
  },
  {
   "cell_type": "code",
   "execution_count": 21,
   "metadata": {},
   "outputs": [
    {
     "name": "stdout",
     "output_type": "stream",
     "text": [
      "sys.float_info(max=1.7976931348623157e+308, max_exp=1024, max_10_exp=308, min=2.2250738585072014e-308, min_exp=-1021, min_10_exp=-307, dig=15, mant_dig=53, epsilon=2.220446049250313e-16, radix=2, rounds=1)\n"
     ]
    }
   ],
   "source": [
    "import sys\n",
    "print(sys.float_info)\n"
   ]
  },
  {
   "cell_type": "code",
   "execution_count": 22,
   "metadata": {},
   "outputs": [
    {
     "name": "stdout",
     "output_type": "stream",
     "text": [
      "8.98846567431158e+307\n"
     ]
    }
   ],
   "source": [
    "x = 2.0 ** 1023\n",
    "print(x)\n"
   ]
  },
  {
   "cell_type": "code",
   "execution_count": 23,
   "metadata": {},
   "outputs": [
    {
     "data": {
      "text/plain": [
       "2048.0"
      ]
     },
     "execution_count": 23,
     "metadata": {},
     "output_type": "execute_result"
    }
   ],
   "source": [
    "2.0 * 1024"
   ]
  },
  {
   "cell_type": "code",
   "execution_count": 24,
   "metadata": {},
   "outputs": [
    {
     "name": "stdout",
     "output_type": "stream",
     "text": [
      "x is of <class 'float'> and is equal to 8.98846567431158e+307\n",
      "y is of <class 'int'> and is equal to 359538626972463181545861038157804946723595395788461314546860162315465351611001926265416954644815072042240227759742786715317579537628833244985694861278948248755535786849730970552604439202492188238906165904170011537676301364684925762947826221081654474326701021369172596479894491876959432609670712659248448274432\n"
     ]
    }
   ],
   "source": [
    "x = 2.0 ** 1023\n",
    "print(\"x is of\", type(x), \"and is equal to\", x)\n",
    "y = 2 ** 1025\n",
    "print(\"y is of\", type(y), \"and is equal to\", y)\n",
    "\n"
   ]
  },
  {
   "cell_type": "code",
   "execution_count": null,
   "metadata": {},
   "outputs": [],
   "source": []
  }
 ],
 "metadata": {
  "kernelspec": {
   "display_name": "Python 3",
   "language": "python",
   "name": "python3"
  },
  "language_info": {
   "codemirror_mode": {
    "name": "ipython",
    "version": 3
   },
   "file_extension": ".py",
   "mimetype": "text/x-python",
   "name": "python",
   "nbconvert_exporter": "python",
   "pygments_lexer": "ipython3",
   "version": "3.8.5"
  }
 },
 "nbformat": 4,
 "nbformat_minor": 4
}
