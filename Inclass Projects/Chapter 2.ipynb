{
 "cells": [
  {
   "cell_type": "code",
   "execution_count": 1,
   "metadata": {},
   "outputs": [
    {
     "name": "stdout",
     "output_type": "stream",
     "text": [
      "[]\n",
      "[1, 2, 3, 4, 5]\n",
      "[1.0, 2.0, 3.0, 4.0, 5.0]\n",
      "['Many words', 'impoverished meaning']\n",
      "[1, 2.0, 'Mix it up']\n"
     ]
    }
   ],
   "source": [
    "empty_list = []\n",
    "int_list = [1,2,3,4,5]\n",
    "float_list = [1.0,2.0,3.0,4.0,5.0]\n",
    "string_list = [\"Many words\", \"impoverished meaning\"]\n",
    "mixed_list = [1,2.0, \"Mix it up\"]\n",
    "\n",
    "print(empty_list)  \n",
    "print(int_list)  \n",
    "print(float_list)  \n",
    "print(string_list)  \n",
    "print(mixed_list)"
   ]
  },
  {
   "cell_type": "code",
   "execution_count": 2,
   "metadata": {},
   "outputs": [
    {
     "name": "stdout",
     "output_type": "stream",
     "text": [
      "list1: [5, 4, 9, 10, 3, 5]\n",
      "list2: [6, 3, 2, 1, 5, 3]\n",
      "[5, 4, 9, 10, 3, 5, 6, 3, 2, 1, 5, 3]\n"
     ]
    }
   ],
   "source": [
    "list1 = [5, 4, 9, 10, 3, 5]\n",
    "list2 = [6, 3, 2, 1, 5, 3]\n",
    "join_lists = list1 + list2\n",
    "\n",
    "print(\"list1:\", list1)\n",
    "print(\"list2:\", list2)\n",
    "print(join_lists)\n"
   ]
  },
  {
   "cell_type": "code",
   "execution_count": 3,
   "metadata": {},
   "outputs": [
    {
     "name": "stdout",
     "output_type": "stream",
     "text": [
      "[0, 1, 2, 3, 4, 5, 6, 7, 8]\n",
      "[-9, -8, -7, -6, -5, -4, -3, -2, -1, 0, 1, 2, 3, 4, 5, 6, 7, 8]\n",
      "[-9, -6, -3, 0, 3, 6]\n"
     ]
    }
   ],
   "source": [
    "list1 = list(range(9))\n",
    "list2 = list(range(-9,9))\n",
    "list3 = list(range(-9,9,3))\n",
    "\n",
    "print(list1)\n",
    "print(list2)\n",
    "print(list3)"
   ]
  },
  {
   "cell_type": "code",
   "execution_count": 4,
   "metadata": {},
   "outputs": [
    {
     "name": "stdout",
     "output_type": "stream",
     "text": [
      "0\n",
      "1\n",
      "2\n",
      "3\n",
      "4\n",
      "5\n",
      "6\n",
      "7\n",
      "8\n",
      "9\n"
     ]
    }
   ],
   "source": [
    "for i in range(10):\n",
    "    print(i)\n"
   ]
  },
  {
   "cell_type": "code",
   "execution_count": 5,
   "metadata": {},
   "outputs": [
    {
     "name": "stdout",
     "output_type": "stream",
     "text": [
      "list1 elements: 5 4 9 10 3\n",
      "list2 elements: 6 3 2 1 5\n",
      "list3 elements: [5, 4, 9, 10, 3, 5, 6, 3, 2, 1, 5, 3]\n"
     ]
    }
   ],
   "source": [
    "list1 = [5, 4, 9, 10, 3, 5]\n",
    "list2 = [6, 3, 2, 1, 5, 3]\n",
    "\n",
    "print(\"list1 elements:\", list1[0], list1[1], list1[2], list1[3], list1[4])\n",
    "print(\"list2 elements:\", list2[0], list2[1], list2[2], list2[3], list2[4])\n",
    "\n",
    "list3 = []\n",
    "j = len(list1)\n",
    "for i in range(j):\n",
    "    list3.append(list1[i])\n",
    "\n",
    "k = len(list2)\n",
    "for i in range(k):\n",
    "    list3.append(list2[i])\n",
    "\n",
    "print(\"list3 elements:\", list3)\n"
   ]
  },
  {
   "cell_type": "code",
   "execution_count": 6,
   "metadata": {},
   "outputs": [
    {
     "name": "stdout",
     "output_type": "stream",
     "text": [
      "list1 elements: 5 4 9 10 3\n",
      "list2 elements: 6 3 2 1 5\n",
      "list3: [11, 7, 11, 11, 8, 8]\n"
     ]
    }
   ],
   "source": [
    "list1 = [5, 4, 9, 10, 3, 5]\n",
    "list2 = [6, 3, 2, 1, 5, 3]\n",
    "\n",
    "print(\"list1 elements:\", list1[0], list1[1], list1[2], list1[3], list1[4])\n",
    "print(\"list2 elements:\", list2[0], list2[1], list2[2], list2[3], list2[4])\n",
    "\n",
    "list3 = []\n",
    "j = len(list1)\n",
    "for i in range(j):\n",
    "    list3.append(list1[i] + list2[i])\n",
    "    \n",
    "print(\"list3:\", list3)\n"
   ]
  },
  {
   "cell_type": "code",
   "execution_count": 7,
   "metadata": {},
   "outputs": [
    {
     "name": "stdout",
     "output_type": "stream",
     "text": [
      "list1 elements: 5 4 9 10 3\n",
      "list2 elements: 6 3 2 1 5\n",
      "list3: [8, 8, 11, 11, 7, 11]\n"
     ]
    }
   ],
   "source": [
    "list1 = [5, 4, 9, 10, 3, 5]\n",
    "list2 = [6, 3, 2, 1, 5, 3]\n",
    "\n",
    "print(\"list1 elements:\", list1[0], list1[1], list1[2], list1[3], list1[4])\n",
    "print(\"list2 elements:\", list2[0], list2[1], list2[2], list2[3], list2[4])\n",
    "\n",
    "list3 = []\n",
    "j = len(list1)\n",
    "for i in range(j):\n",
    "    list3.insert(0,list1[i] + list2[i])\n",
    "    \n",
    "print(\"list3:\", list3)\n"
   ]
  },
  {
   "cell_type": "code",
   "execution_count": 8,
   "metadata": {},
   "outputs": [
    {
     "name": "stdout",
     "output_type": "stream",
     "text": [
      "execute script\n"
     ]
    }
   ],
   "source": [
    "if True:\n",
    "    print(\"execute script\")\n",
    "\n"
   ]
  },
  {
   "cell_type": "code",
   "execution_count": 9,
   "metadata": {},
   "outputs": [
    {
     "name": "stdout",
     "output_type": "stream",
     "text": [
      "execute script\n"
     ]
    }
   ],
   "source": [
    "if True:\n",
    "    print(\"execute script\")\n",
    "else:\n",
    "    pass\n"
   ]
  },
  {
   "cell_type": "code",
   "execution_count": 10,
   "metadata": {},
   "outputs": [],
   "source": [
    "if False:\n",
    "    print(\"execute script\")\n",
    "else:\n",
    "    pass\n"
   ]
  },
  {
   "cell_type": "code",
   "execution_count": 11,
   "metadata": {},
   "outputs": [
    {
     "name": "stdout",
     "output_type": "stream",
     "text": [
      "list1 elements: 5 4 9 10 3\n",
      "list2 elements: 6 3 2 1 5\n",
      "list3: [11, 7, 11, 11, 8, 8]\n"
     ]
    }
   ],
   "source": [
    "list1 = [5, 4, 9, 10, 3, 5]\n",
    "list2 = [6, 3, 2, 1, 5, 3]\n",
    "print(\"list1 elements:\", list1[0], list1[1], list1[2], list1[3], list1[4])\n",
    "print(\"list2 elements:\", list2[0], list2[1], list2[2], list2[3], list2[4])\n",
    "\n",
    "list3 = []\n",
    "j = len(list1)\n",
    "if j == len(list2):\n",
    "    for i in range(0, len(list2)):\n",
    "        list3.insert(i,list1[i] + list2[i])\n",
    "print(\"list3:\", list3)\n"
   ]
  },
  {
   "cell_type": "code",
   "execution_count": 12,
   "metadata": {},
   "outputs": [
    {
     "name": "stdout",
     "output_type": "stream",
     "text": [
      "list1 elements: 5 4 9 10 3\n",
      "list2 elements: 6 3 2 1 5\n",
      "Lists are not the same length, cannot perform element-wise operations.\n",
      "list3: []\n"
     ]
    }
   ],
   "source": [
    "list1 = [5, 4, 9, 10, 3, 5]\n",
    "list2 = [6, 3, 2, 1, 5]\n",
    "print(\"list1 elements:\", list1[0], list1[1], list1[2], list1[3], list1[4])\n",
    "print(\"list2 elements:\", list2[0], list2[1], list2[2], list2[3], list2[4])\n",
    "\n",
    "list3 = []\n",
    "j = len(list1)\n",
    "if j == len(list2):\n",
    "    for i in range(0, len(list2)):\n",
    "        list3.insert(i,list1[i] + list2[i])\n",
    "else:\n",
    "    print(\"Lists are not the same length, cannot perform element-wise operations.\")\n",
    "print(\"list3:\", list3)\n"
   ]
  },
  {
   "cell_type": "code",
   "execution_count": 13,
   "metadata": {},
   "outputs": [
    {
     "name": "stdout",
     "output_type": "stream",
     "text": [
      "lists before deletion: \n",
      "red \t nose\n",
      "blue \t ice\n",
      "orange \t fire\n",
      "black \t cat\n",
      "white \t mouse\n",
      "golden \t dog\n",
      "\n",
      "lists after deletion: \n",
      "blue \t nose\n",
      "orange \t ice\n",
      "black \t fire\n",
      "white \t cat\n",
      "golden \t mouse\n"
     ]
    }
   ],
   "source": [
    "list1 = [\"red\", \"blue\", \"orange\", \"black\", \"white\", \"golden\"]\n",
    "list2 = [\"nose\", \"ice\", \"fire\", \"cat\", \"mouse\", \"dog\"]\n",
    "print(\"lists before deletion: \")\n",
    "for i in range(len(list1)):\n",
    "    print(list1[i],\"\\t\", list2[i])\n",
    "    \n",
    "del list1[0]\n",
    "del list2[5]\n",
    "\n",
    "print()\n",
    "print(\"lists after deletion: \")\n",
    "for i in range(len(list1)):\n",
    "    print(list1[i], \"\\t\",list2[i])\n"
   ]
  },
  {
   "cell_type": "code",
   "execution_count": 14,
   "metadata": {},
   "outputs": [
    {
     "name": "stdout",
     "output_type": "stream",
     "text": [
      "lists before deletion: \n",
      "red \t nose\n",
      "blue \t ice\n",
      "orange \t fire\n",
      "black \t cat\n",
      "white \t mouse\n",
      "golden \t dog\n",
      "\n",
      "lists after deletion: \n",
      "blue \t nose\n",
      "orange \t ice\n",
      "black \t fire\n",
      "white \t cat\n",
      "golden \t mouse\n"
     ]
    }
   ],
   "source": [
    "\n",
    "list1 = [\"red\", \"blue\", \"orange\", \"black\", \"white\", \"golden\"]\n",
    "list2 = [\"nose\", \"ice\", \"fire\", \"cat\", \"mouse\", \"dog\"]\n",
    "print(\"lists before deletion: \")\n",
    "for i in range(len(list1)):\n",
    "    print(list1[i],\"\\t\", list2[i])\n",
    "    \n",
    "list1.remove(\"red\")\n",
    "list2.remove(\"dog\")\n",
    "\n",
    "print()\n",
    "print(\"lists after deletion: \")\n",
    "for i in range(len(list1)):\n",
    "    print(list1[i], \"\\t\",list2[i])     \n"
   ]
  },
  {
   "cell_type": "code",
   "execution_count": 15,
   "metadata": {},
   "outputs": [
    {
     "name": "stdout",
     "output_type": "stream",
     "text": [
      "lists before deletion: \n",
      "red \t nose\n",
      "blue \t ice\n",
      "orange \t fire\n",
      "black \t cat\n",
      "white \t mouse\n",
      "golden \t dog\n",
      "\n",
      "lists after deletion: \n",
      "blue \t nose\n",
      "orange \t ice\n",
      "black \t fire\n",
      "white \t cat\n",
      "golden \t mouse\n",
      "\n",
      "Res1 \tRes2\n",
      "red \tdog\n"
     ]
    }
   ],
   "source": [
    "list1 = [\"red\", \"blue\", \"orange\", \"black\", \"white\", \"golden\"]\n",
    "list2 = [\"nose\", \"ice\", \"fire\", \"cat\", \"mouse\", \"dog\"]\n",
    "\n",
    "\n",
    "print(\"lists before deletion: \")\n",
    "if len(list1) == len(list2):\n",
    "    \n",
    "    for i in range(len(list1)):\n",
    "        print(list1[i],\"\\t\", list2[i])\n",
    "    \n",
    "\n",
    "list1_res = \"red\"\n",
    "list2_res = \"dog\"\n",
    "list1.remove(list1_res)\n",
    "list2.remove(list2_res)\n",
    "\n",
    "print()\n",
    "\n",
    "print(\"lists after deletion: \")\n",
    "if len(list1) == len(list2):\n",
    "    for i in range(len(list1)):\n",
    "        print(list1[i], \"\\t\",list2[i])\n",
    "     \n",
    "print()\n",
    "print(\"Res1\", \"\\tRes2\")\n",
    "print(list1_res, \"\\t\" + (list2_res))\n",
    "\n"
   ]
  },
  {
   "cell_type": "code",
   "execution_count": 16,
   "metadata": {},
   "outputs": [
    {
     "name": "stdout",
     "output_type": "stream",
     "text": [
      "lists before deletion: \n",
      "red \t nose\n",
      "blue \t ice\n",
      "orange \t fire\n",
      "black \t cat\n",
      "white \t mouse\n",
      "golden \t dog\n",
      "\n",
      "lists after deletion: \n",
      "blue \t nose\n",
      "orange \t ice\n",
      "black \t fire\n",
      "white \t cat\n",
      "golden \t mouse\n",
      "\n",
      "Res1 \tRes2\n",
      "red \tdog\n"
     ]
    }
   ],
   "source": [
    "\n",
    "list1 = [\"red\", \"blue\", \"orange\", \"black\", \"white\", \"golden\"]\n",
    "list2 = [\"nose\", \"ice\", \"fire\", \"cat\", \"mouse\", \"dog\"]\n",
    "\n",
    "\n",
    "print(\"lists before deletion: \")\n",
    "\n",
    "for i in range(len(list1)):\n",
    "    print(list1[i],\"\\t\", list2[i])\n",
    "    \n",
    "\n",
    "list1_res = list1.pop(0)\n",
    "list2_res = list2.pop(5)\n",
    "\n",
    "print()\n",
    "\n",
    "print(\"lists after deletion: \")\n",
    "for i in range(len(list1)):\n",
    "    print(list1[i], \"\\t\",list2[i])\n",
    "     \n",
    "print()\n",
    "print(\"Res1\", \"\\tRes2\")\n",
    "print(list1_res, \"\\t\" + (list2_res))\n"
   ]
  },
  {
   "cell_type": "code",
   "execution_count": 17,
   "metadata": {},
   "outputs": [
    {
     "name": "stdout",
     "output_type": "stream",
     "text": [
      "list1 elements: 5 4 9 10 3\n",
      "list2 elements: 6 3 2 1 5\n",
      "list3: [11, 11, 8]\n"
     ]
    }
   ],
   "source": [
    "\n",
    "list1 = [5, 4, 9, 10, 3, 5]\n",
    "list2 = [6, 3, 2, 1, 5, 3]\n",
    "print(\"list1 elements:\", list1[0], list1[1], list1[2], list1[3], list1[4])\n",
    "print(\"list2 elements:\", list2[0], list2[1], list2[2], list2[3], list2[4])\n",
    "\n",
    "list3 = []\n",
    "j = len(list1)\n",
    "if j == len(list2):\n",
    "    for i in range(0, j, 2):\n",
    "        list3.append(list1[i] + list2[i])\n",
    "else:\n",
    "    print(\"Lists are not the same length, cannot perform element-wise operations.\")\n",
    "print(\"list3:\", list3)"
   ]
  },
  {
   "cell_type": "code",
   "execution_count": 18,
   "metadata": {},
   "outputs": [
    {
     "name": "stdout",
     "output_type": "stream",
     "text": [
      "A\n",
      "few\n",
      "words\n",
      "to\n",
      "print\n",
      "list1\t list2\n",
      "red \t red\n",
      "blue \t blue\n",
      "orange \t orange\n",
      "black \t black\n",
      "white \t white\n",
      "golden \t golden\n"
     ]
    }
   ],
   "source": [
    "obj = [\"A\", \"few\", \"words\", \"to\", \"print\"]\n",
    "for x in obj:\n",
    "    print(x)\n",
    "\n",
    "\n",
    "# In[22]:\n",
    "\n",
    "\n",
    "list1 = [\"red\", \"blue\", \"orange\", \"black\", \"white\", \"golden\"]\n",
    "list2 = []\n",
    "for x in list1:\n",
    "    list2.append(x)\n",
    "\n",
    "print(\"list1\\t\", \"list2\")\n",
    "k = len(list1)\n",
    "j = len(list2)\n",
    "\n",
    "if len(list1) == len(list2):\n",
    "    for i in range(0, len(list1)):\n",
    "        print(list1[i], \"\\t\", list2[i])\n"
   ]
  },
  {
   "cell_type": "code",
   "execution_count": 19,
   "metadata": {},
   "outputs": [
    {
     "name": "stdout",
     "output_type": "stream",
     "text": [
      "list1: [5, 4, 9, 10, 3, 5]\n",
      "list2: ['red', 'blue', 'orange', 'black', 'white', 'golden']\n",
      "sortedList1: [3, 4, 5, 5, 9, 10]\n",
      "sortedList2: ['black', 'blue', 'golden', 'orange', 'red', 'white']\n"
     ]
    }
   ],
   "source": [
    "\n",
    "list1 = [5, 4, 9, 10, 3, 5]\n",
    "list2 = [\"red\", \"blue\", \"orange\", \"black\", \"white\", \"golden\"]\n",
    "\n",
    "print(\"list1:\", list1)\n",
    "print(\"list2:\", list2)\n",
    "\n",
    "sorted_list1 = sorted(list1)\n",
    "sorted_list2 = sorted(list2)\n",
    "\n",
    "print(\"sortedList1:\", sorted_list1)\n",
    "print(\"sortedList2:\", sorted_list2)\n"
   ]
  },
  {
   "cell_type": "code",
   "execution_count": 22,
   "metadata": {},
   "outputs": [
    {
     "name": "stdout",
     "output_type": "stream",
     "text": [
      "list1: [5, 4, 9, 10, 3, 5]\n",
      "list2: ['red', 'blue', 'orange', 'black', 'white', 'golden']\n",
      "list3: [5, 4, 9, 10, 3, 5, 'red', 'blue', 'orange', 'black', 'white', 'golden']\n",
      "sortedList1: [3, 4, 5, 5, 9, 10]\n",
      "sortedList2: ['black', 'blue', 'golden', 'orange', 'red', 'white']\n"
     ]
    },
    {
     "ename": "TypeError",
     "evalue": "'<' not supported between instances of 'str' and 'int'",
     "output_type": "error",
     "traceback": [
      "\u001b[1;31m---------------------------------------------------------------------------\u001b[0m",
      "\u001b[1;31mTypeError\u001b[0m                                 Traceback (most recent call last)",
      "\u001b[1;32m<ipython-input-22-7cce7777e0ca>\u001b[0m in \u001b[0;36m<module>\u001b[1;34m\u001b[0m\n\u001b[0;32m     14\u001b[0m \u001b[0mprint\u001b[0m\u001b[1;33m(\u001b[0m\u001b[1;34m\"sortedList2:\"\u001b[0m\u001b[1;33m,\u001b[0m \u001b[0msorted_list2\u001b[0m\u001b[1;33m)\u001b[0m\u001b[1;33m\u001b[0m\u001b[1;33m\u001b[0m\u001b[0m\n\u001b[0;32m     15\u001b[0m \u001b[1;33m\u001b[0m\u001b[0m\n\u001b[1;32m---> 16\u001b[1;33m \u001b[0msorted_list3\u001b[0m \u001b[1;33m=\u001b[0m \u001b[0msorted\u001b[0m\u001b[1;33m(\u001b[0m\u001b[0mlist3\u001b[0m\u001b[1;33m)\u001b[0m\u001b[1;33m\u001b[0m\u001b[1;33m\u001b[0m\u001b[0m\n\u001b[0m\u001b[0;32m     17\u001b[0m \u001b[0mprint\u001b[0m\u001b[1;33m(\u001b[0m\u001b[1;34m\"sortedList3:\"\u001b[0m\u001b[1;33m,\u001b[0m \u001b[0msorted_list3\u001b[0m\u001b[1;33m)\u001b[0m\u001b[1;33m\u001b[0m\u001b[1;33m\u001b[0m\u001b[0m\n\u001b[0;32m     18\u001b[0m \u001b[0mprint\u001b[0m\u001b[1;33m(\u001b[0m\u001b[1;34m\"Execution complete!\"\u001b[0m\u001b[1;33m)\u001b[0m\u001b[1;33m\u001b[0m\u001b[1;33m\u001b[0m\u001b[0m\n",
      "\u001b[1;31mTypeError\u001b[0m: '<' not supported between instances of 'str' and 'int'"
     ]
    }
   ],
   "source": [
    "\n",
    "list1 = [5, 4, 9, 10, 3, 5]\n",
    "list2 = [\"red\", \"blue\", \"orange\", \"black\", \"white\", \"golden\"]\n",
    "list3 = list1 + list2\n",
    "\n",
    "print(\"list1:\", list1)\n",
    "print(\"list2:\", list2)\n",
    "print(\"list3:\", list3)\n",
    "\n",
    "sorted_list1 = sorted(list1)\n",
    "sorted_list2 = sorted(list2)\n",
    "\n",
    "\n",
    "print(\"sortedList1:\", sorted_list1)\n",
    "print(\"sortedList2:\", sorted_list2)\n",
    "\n",
    "sorted_list3 = sorted(list3)\n",
    "print(\"sortedList3:\", sorted_list3)\n",
    "print(\"Execution complete!\")"
   ]
  },
  {
   "cell_type": "code",
   "execution_count": 23,
   "metadata": {},
   "outputs": [
    {
     "name": "stdout",
     "output_type": "stream",
     "text": [
      "list1: [5, 4, 9, 10, 3, 5]\n",
      "list2: ['red', 'blue', 'orange', 'black', 'white', 'golden']\n",
      "list3: [5, 4, 9, 10, 3, 5, 'red', 'blue', 'orange', 'black', 'white', 'golden']\n",
      "sortedList1: [3, 4, 5, 5, 9, 10]\n",
      "sortedList2: ['black', 'blue', 'golden', 'orange', 'red', 'white']\n",
      "TypeError: unorderable types: str() < int() ignoring error\n",
      "Execution complete!\n"
     ]
    }
   ],
   "source": [
    "list1 = [5, 4, 9, 10, 3, 5]\n",
    "list2 = [\"red\", \"blue\", \"orange\", \"black\", \"white\", \"golden\"]\n",
    "list3 = list1 + list2\n",
    "\n",
    "print(\"list1:\", list1)\n",
    "print(\"list2:\", list2)\n",
    "print(\"list3:\", list3)\n",
    "\n",
    "sorted_list1 = sorted(list1)\n",
    "sorted_list2 = sorted(list2)\n",
    "\n",
    "print(\"sortedList1:\", sorted_list1)\n",
    "print(\"sortedList2:\", sorted_list2)\n",
    "try:\n",
    "    sorted_list3 = sorted(list3)\n",
    "    print(\"sortedList3:\", sorted_list3)\n",
    "except:\n",
    "    print(\"TypeError: unorderable types: str() < int() \"\n",
    "         \"ignoring error\")\n",
    "print(\"Execution complete!\")\n"
   ]
  },
  {
   "cell_type": "code",
   "execution_count": 24,
   "metadata": {},
   "outputs": [
    {
     "name": "stdout",
     "output_type": "stream",
     "text": [
      "[3, 1, 5, 6, 1]\n"
     ]
    }
   ],
   "source": [
    "some_list = [3, 1, 5, 6, 1]\n",
    "print(some_list[:])\n"
   ]
  },
  {
   "cell_type": "code",
   "execution_count": 25,
   "metadata": {},
   "outputs": [
    {
     "name": "stdout",
     "output_type": "stream",
     "text": [
      "minimum: 0\n",
      "maximum: 5\n",
      "Full list using slice [3, 1, 5, 6, 1]\n",
      "Full list without slice [3, 1, 5, 6, 1]\n"
     ]
    }
   ],
   "source": [
    "some_list = [3, 1, 5, 6, 1]\n",
    "min_index = 0\n",
    "max_index = len(some_list)\n",
    "print(\"minimum:\", min_index)\n",
    "print(\"maximum:\", max_index)\n",
    "print(\"Full list using slice\", some_list[min_index:max_index])\n",
    "print(\"Full list without slice\", some_list)\n"
   ]
  },
  {
   "cell_type": "code",
   "execution_count": 26,
   "metadata": {},
   "outputs": [
    {
     "name": "stdout",
     "output_type": "stream",
     "text": [
      "Full List: [1, 2, 3, 4, 5, 6, 7, 8, 9]\n",
      "Partial List: [4, 5, 6, 7]\n",
      "full_list[7]: 8\n"
     ]
    }
   ],
   "source": [
    "min_index = 3\n",
    "max_index = 7\n",
    "full_list = [1, 2, 3, 4, 5, 6, 7, 8, 9]\n",
    "partial_list = full_list[min_index:max_index]\n",
    "print(\"Full List:\", full_list)\n",
    "print(\"Partial List:\", partial_list)\n",
    "print(\"full_list[7]:\", full_list[7])\n"
   ]
  },
  {
   "cell_type": "code",
   "execution_count": 27,
   "metadata": {},
   "outputs": [
    {
     "name": "stdout",
     "output_type": "stream",
     "text": [
      "i j\n",
      "0 0\n",
      "0 1\n",
      "0 2\n",
      "0 3\n",
      "0 4\n",
      "1 0\n",
      "1 1\n",
      "1 2\n",
      "1 3\n",
      "1 4\n",
      "2 0\n",
      "2 1\n",
      "2 2\n",
      "2 3\n",
      "2 4\n",
      "3 0\n",
      "3 1\n",
      "3 2\n",
      "3 3\n",
      "3 4\n",
      "4 0\n",
      "4 1\n",
      "4 2\n",
      "4 3\n",
      "4 4\n"
     ]
    }
   ],
   "source": [
    "\n",
    "print(\"i\", \"j\")\n",
    "for i in range(5):\n",
    "    for j in range(5):\n",
    "        print(i, j)\n"
   ]
  },
  {
   "cell_type": "code",
   "execution_count": 28,
   "metadata": {},
   "outputs": [
    {
     "name": "stdout",
     "output_type": "stream",
     "text": [
      "i j i+j\n",
      "0 0 0\n",
      "0 1 1\n",
      "0 2 2\n",
      "0 3 3\n",
      "0 4 4\n",
      "1 0 1\n",
      "1 1 2\n",
      "1 2 3\n",
      "1 3 4\n",
      "1 4 5\n",
      "2 0 2\n",
      "2 1 3\n",
      "2 2 4\n",
      "2 3 5\n",
      "2 4 6\n",
      "3 0 3\n",
      "3 1 4\n",
      "3 2 5\n",
      "3 3 6\n",
      "3 4 7\n",
      "4 0 4\n",
      "4 1 5\n",
      "4 2 6\n",
      "4 3 7\n",
      "4 4 8\n"
     ]
    }
   ],
   "source": [
    "print(\"i\", \"j\", \"i+j\")\n",
    "for i in range(5):\n",
    "    for j in range(5):\n",
    "        val = i + j\n",
    "        print(i, j, val)\n"
   ]
  },
  {
   "cell_type": "code",
   "execution_count": 29,
   "metadata": {},
   "outputs": [
    {
     "name": "stdout",
     "output_type": "stream",
     "text": [
      "maximum: 50 minimum: 20\n"
     ]
    }
   ],
   "source": [
    "\n",
    "list1 = [20, 30, 40, 50]\n",
    "max_list_value = max(list1)\n",
    "min_list_value = min(list1)\n",
    "print(\"maximum:\", max_list_value, \"minimum:\", min_list_value)\n"
   ]
  },
  {
   "cell_type": "code",
   "execution_count": 30,
   "metadata": {},
   "outputs": [
    {
     "name": "stdout",
     "output_type": "stream",
     "text": [
      "maximum: 50 minimum: 20\n"
     ]
    }
   ],
   "source": [
    "list1 = [20, 30, 40, 50]\n",
    "min_list_val = float(\"inf\")\n",
    "max_list_val = float(\"-inf\")\n",
    "\n",
    "for x in list1:\n",
    "    if x < min_list_val:\n",
    "        min_list_val = x\n",
    "    if x > max_list_val:\n",
    "        max_list_val = x\n",
    "\n",
    "print(\"maximum:\", max_list_val, \"minimum:\", min_list_val)\n"
   ]
  },
  {
   "cell_type": "code",
   "execution_count": 31,
   "metadata": {},
   "outputs": [
    {
     "name": "stdout",
     "output_type": "stream",
     "text": [
      "<generator object <genexpr> at 0x00DDF060>\n",
      "[0, 1, 2, 3, 4, 5, 6, 7, 8, 9, 10, 11, 12, 13, 14, 15, 16, 17, 18, 19]\n",
      "[0, 2, 4, 6, 8, 10, 12, 14, 16, 18, 20, 22, 24, 26, 28, 30, 32, 34, 36, 38]\n"
     ]
    }
   ],
   "source": [
    "generator = (i for i in range(20))\n",
    "print(generator)\n",
    "\n",
    "list1 = list(generator)\n",
    "print(list1)\n",
    "\n",
    "list2 = [2 * i for i in range(20)]\n",
    "print(list2)\n"
   ]
  },
  {
   "cell_type": "code",
   "execution_count": null,
   "metadata": {},
   "outputs": [],
   "source": []
  }
 ],
 "metadata": {
  "kernelspec": {
   "display_name": "Python 3",
   "language": "python",
   "name": "python3"
  },
  "language_info": {
   "codemirror_mode": {
    "name": "ipython",
    "version": 3
   },
   "file_extension": ".py",
   "mimetype": "text/x-python",
   "name": "python",
   "nbconvert_exporter": "python",
   "pygments_lexer": "ipython3",
   "version": "3.8.5"
  }
 },
 "nbformat": 4,
 "nbformat_minor": 4
}
